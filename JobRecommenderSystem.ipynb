{
 "cells": [
  {
   "cell_type": "code",
   "execution_count": null,
   "id": "aa083c66",
   "metadata": {},
   "outputs": [],
   "source": [
    "import pandas as pd\n",
    "import numpy\n",
    "from nltk.stem import WordNetLemmatizer\n",
    "from nltk.tokenize import word_tokenize\n",
    "from nltk.corpus import stopwords\n",
    "from sklearn.feature_extraction.text import CountVectorizer\n",
    "from sklearn.metrics.pairwise import cosine_similarity"
   ]
  },
  {
   "cell_type": "code",
   "execution_count": null,
   "id": "f012bd49",
   "metadata": {},
   "outputs": [],
   "source": [
    "jobs = pd.read_csv('dataset.csv')"
   ]
  },
  {
   "cell_type": "code",
   "execution_count": null,
   "id": "7654c658",
   "metadata": {},
   "outputs": [],
   "source": [
    "jobs.head(5)"
   ]
  },
  {
   "cell_type": "code",
   "execution_count": null,
   "id": "08796e67",
   "metadata": {},
   "outputs": [],
   "source": [
    "jobs.info()"
   ]
  },
  {
   "cell_type": "code",
   "execution_count": null,
   "id": "91838dc8",
   "metadata": {},
   "outputs": [],
   "source": [
    "jobs = jobs[['Job Title','Job Salary','Job Experience Required','Key Skills','Location','Industry','Role']]\n",
    "jobs.shape"
   ]
  },
  {
   "cell_type": "code",
   "execution_count": null,
   "id": "ae568e75",
   "metadata": {},
   "outputs": [],
   "source": [
    "jobs.dropna(inplace=True)"
   ]
  },
  {
   "cell_type": "code",
   "execution_count": null,
   "id": "874b584d",
   "metadata": {},
   "outputs": [],
   "source": [
    "jobs.isnull().sum()"
   ]
  },
  {
   "cell_type": "code",
   "execution_count": 194,
   "id": "e4e124d2",
   "metadata": {},
   "outputs": [
    {
     "data": {
      "text/plain": [
       "array(['media planning digital media',\n",
       "       'pre sales closing software knowledge clients requirements negotiating client online bidding good communication technology',\n",
       "       'computer science fabrication quality check intellectual property electronics support services research management human resource management research executive',\n",
       "       ...,\n",
       "       'service delivery lms cre integration services content development client management crm',\n",
       "       'security analysis software development life cycle security testing cyber security application security new projects code review project development software solutions security services',\n",
       "       'press release public relations publishing web technologies seo writing journalism ms word syndication business executive search engine optimization'],\n",
       "      dtype=object)"
      ]
     },
     "execution_count": 194,
     "metadata": {},
     "output_type": "execute_result"
    }
   ],
   "source": [
    "jobs['Key Skills'].unique()"
   ]
  },
  {
   "cell_type": "code",
   "execution_count": 195,
   "id": "8fbd343f",
   "metadata": {},
   "outputs": [
    {
     "data": {
      "text/plain": [
       "array(['Mumbai', 'Pune,Pune', 'Gurgaon', ...,\n",
       "       'Delhi NCR (New Friends Colony) ', 'Bengaluru,Bhubaneshwar',\n",
       "       'Howrah'], dtype=object)"
      ]
     },
     "execution_count": 195,
     "metadata": {},
     "output_type": "execute_result"
    }
   ],
   "source": [
    "jobs['Location'].unique()"
   ]
  },
  {
   "cell_type": "code",
   "execution_count": null,
   "id": "e7142407",
   "metadata": {},
   "outputs": [],
   "source": [
    "jobs.columns"
   ]
  },
  {
   "cell_type": "code",
   "execution_count": null,
   "id": "d82a166e",
   "metadata": {},
   "outputs": [],
   "source": [
    "jobs['Key Skills'] = jobs['Key Skills'].apply(lambda x: x.lower().replace(\"|\",\" \").replace(\"  \",\" \").strip())\n",
    "jobs['Key Skills'].unique()[5]\n",
    "jobs['Tags'] = jobs['Key Skills'] +  ' ' + jobs['Location'] + ' ' + jobs['Role']\n",
    "jobs['Tags'] = jobs['Tags'].apply(lambda x: x.lower().replace(\"  \",\" \").strip())"
   ]
  },
  {
   "cell_type": "code",
   "execution_count": null,
   "id": "45d96630",
   "metadata": {},
   "outputs": [],
   "source": [
    "salaryVlocation = jobs.groupby(jobs['Job Salary'])['Location'].sum().sort_values()\n",
    "salaryVlocation = pd.DataFrame(salaryVlocation)\n",
    "salaryVlocation.head(15)"
   ]
  },
  {
   "cell_type": "code",
   "execution_count": null,
   "id": "4eb92c9d",
   "metadata": {},
   "outputs": [],
   "source": [
    "salaryVlocation = jobs.groupby(jobs['Key Skills'])['Location'].sum().sort_values()\n",
    "salaryVlocation = pd.DataFrame(salaryVlocation)\n",
    "salaryVlocation.head(15)"
   ]
  },
  {
   "cell_type": "code",
   "execution_count": null,
   "id": "3deb6d07",
   "metadata": {},
   "outputs": [],
   "source": [
    "salaryVlocation = jobs.groupby(jobs['Key Skills'])['Job Salary'].sum().sort_values()\n",
    "salaryVlocation = pd.DataFrame(salaryVlocation)\n",
    "salaryVlocation.head(15)"
   ]
  },
  {
   "cell_type": "code",
   "execution_count": null,
   "id": "af19f18d",
   "metadata": {},
   "outputs": [],
   "source": [
    "salaryVlocation = jobs.groupby(jobs['Job Salary'])['Location'].sum().sort_values()\n",
    "salaryVlocation = pd.DataFrame(salaryVlocation)\n",
    "salaryVlocation.head(15)"
   ]
  },
  {
   "cell_type": "code",
   "execution_count": null,
   "id": "53fbb7f5",
   "metadata": {},
   "outputs": [],
   "source": [
    "cv = CountVectorizer(max_features=1000,stop_words='english')"
   ]
  },
  {
   "cell_type": "code",
   "execution_count": null,
   "id": "dc6a12fa",
   "metadata": {},
   "outputs": [],
   "source": [
    "def vectorize(narr):\n",
    "    vector = cv.fit_transform(narr)\n",
    "    similarity = cosine_similarity(vector)\n",
    "    return similarity"
   ]
  },
  {
   "cell_type": "code",
   "execution_count": null,
   "id": "096a6827",
   "metadata": {},
   "outputs": [],
   "source": [
    "def getUserData():\n",
    "    skills = input(\"Enter Your Skills (Mandatory) (ex: C, C++, Python)\")\n",
    "    experience = int(input(\"Enter Your Experience (ex: 0,1,2..)\"))\n",
    "    role = input(\"Enter If There are any Preffered Role (Optional)\")\n",
    "    location = input(\"Enter any Preffered Location (Optional)\")\n",
    "    userData = {'skills':skills, 'experience':experience, 'role':role, 'location':location }\n",
    "    return userData"
   ]
  },
  {
   "cell_type": "code",
   "execution_count": null,
   "id": "79bd4630",
   "metadata": {},
   "outputs": [],
   "source": [
    "def recommendJobs():\n",
    "    userData = getUserData()\n",
    "    tags = userData['skills'] + ' ' + userData['location'] + ' ' + userData['role']\n",
    "    temp = {\n",
    "        'Job Title':' ',\n",
    "        'Job Salary':\" \",\n",
    "        'Job Experience Required': userData['experience'] or ' ',\n",
    "        'Key Skills': userData['skills'] or ' ',\n",
    "        'Location':userData['location'] or ' ',\n",
    "        'Industry':' ',\n",
    "        'Role':userData['role'] or ' ',\n",
    "        'Tags': tags.lower()\n",
    "    }\n",
    "    newDf = jobs.append(temp,ignore_index = True)\n",
    "    tempArray = newDf['Tags'].values\n",
    "    vector = vectorize(tempArray)\n",
    "    recommended_list = sorted(list(enumerate(vector[-1])),reverse=True,key= lambda x:x[1])\n",
    "    recList = []\n",
    "    for i in recommended_list[1:10]:\n",
    "        recList.append(jobs.iloc[i[0]])\n",
    "    recommendedJobs = pd.DataFrame(recList)\n",
    "    recommendedJobs = recommendedJobs[['Job Title','Job Salary','Job Experience Required', 'Key Skills','Location','Industry','Role']]\n",
    "    return recommendedJobs"
   ]
  },
  {
   "cell_type": "code",
   "execution_count": null,
   "id": "69ffecc5",
   "metadata": {},
   "outputs": [],
   "source": [
    "recommendedJobs = recommendJobs()\n",
    "recommendedJobs"
   ]
  },
  {
   "cell_type": "code",
   "execution_count": null,
   "id": "37f58bf5",
   "metadata": {},
   "outputs": [],
   "source": [
    "salaryVlocation = recommendedJobs.groupby(jobs['Job Salary'])['Location'].sum().sort_values()\n",
    "salaryVlocation = pd.DataFrame(salaryVlocation)\n",
    "salaryVlocation.head(10)"
   ]
  },
  {
   "cell_type": "code",
   "execution_count": null,
   "id": "b09dbb8e",
   "metadata": {},
   "outputs": [],
   "source": [
    "import matplotlib.pyplot as plt\n",
    "\n",
    "fig, ax = plt.subplots()\n",
    "figure_name = plt.figure(figsize=(200, 100))\n",
    "fruits = salaryVlocation.index\n",
    "counts = salaryVlocation['Location']\n",
    "\n",
    "ax.bar( counts,fruits, label=bar_labels, color=bar_colors)\n",
    "\n",
    "plt.show()"
   ]
  },
  {
   "cell_type": "code",
   "execution_count": null,
   "id": "2778b8e1",
   "metadata": {},
   "outputs": [],
   "source": [
    "roleVindustry = recommendedJobs.groupby(jobs['Role'])['Industry'].sum().sort_values()\n",
    "roleVindustry = pd.DataFrame(roleVindustry)\n",
    "roleVindustry.head(10)"
   ]
  },
  {
   "cell_type": "code",
   "execution_count": null,
   "id": "3851a2b1",
   "metadata": {},
   "outputs": [],
   "source": [
    "skillsVlocation = recommendedJobs.groupby(jobs['Key Skills'])['Location'].sum().sort_values()\n",
    "skillsVlocation = pd.DataFrame(skillsVlocation)\n",
    "skillsVlocation.head(15)"
   ]
  },
  {
   "cell_type": "code",
   "execution_count": null,
   "id": "63d3369a",
   "metadata": {},
   "outputs": [],
   "source": [
    "fig, ax = plt.subplots()\n",
    "figure_name = plt.figure(figsize=(200, 100))\n",
    "fruits = skillsVlocation.index\n",
    "counts = skillsVlocation['Location']\n",
    "\n",
    "ax.bar( counts,fruits, label=bar_labels, color=bar_colors)\n",
    "\n",
    "\n",
    "plt.show()"
   ]
  },
  {
   "cell_type": "code",
   "execution_count": null,
   "id": "0ecce8ca",
   "metadata": {},
   "outputs": [],
   "source": []
  }
 ],
 "metadata": {
  "kernelspec": {
   "display_name": "Python 3 (ipykernel)",
   "language": "python",
   "name": "python3"
  },
  "language_info": {
   "codemirror_mode": {
    "name": "ipython",
    "version": 3
   },
   "file_extension": ".py",
   "mimetype": "text/x-python",
   "name": "python",
   "nbconvert_exporter": "python",
   "pygments_lexer": "ipython3",
   "version": "3.10.9"
  }
 },
 "nbformat": 4,
 "nbformat_minor": 5
}
