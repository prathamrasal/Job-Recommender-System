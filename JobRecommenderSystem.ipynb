{
 "cells": [
  {
   "cell_type": "code",
   "execution_count": 117,
   "id": "aa083c66",
   "metadata": {},
   "outputs": [],
   "source": [
    "import pandas as pd\n",
    "import numpy\n",
    "from nltk.stem import WordNetLemmatizer\n",
    "from nltk.tokenize import word_tokenize\n",
    "from nltk.corpus import stopwords\n",
    "from sklearn.feature_extraction.text import CountVectorizer\n",
    "from sklearn.metrics.pairwise import cosine_similarity"
   ]
  },
  {
   "cell_type": "code",
   "execution_count": 118,
   "id": "f012bd49",
   "metadata": {},
   "outputs": [],
   "source": [
    "jobs = pd.read_csv('dataset.csv')"
   ]
  },
  {
   "cell_type": "code",
   "execution_count": 119,
   "id": "7654c658",
   "metadata": {},
   "outputs": [],
   "source": [
    "# jobs.head(3)"
   ]
  },
  {
   "cell_type": "code",
   "execution_count": 120,
   "id": "91838dc8",
   "metadata": {},
   "outputs": [],
   "source": [
    "jobs = jobs[['Job Title','Job Salary','Job Experience Required','Key Skills','Location','Industry','Role']]\n",
    "# jobs.tail()"
   ]
  },
  {
   "cell_type": "code",
   "execution_count": 121,
   "id": "ae568e75",
   "metadata": {},
   "outputs": [],
   "source": [
    "jobs.dropna(inplace=True)"
   ]
  },
  {
   "cell_type": "code",
   "execution_count": 122,
   "id": "874b584d",
   "metadata": {},
   "outputs": [
    {
     "data": {
      "text/plain": [
       "Job Title                  0\n",
       "Job Salary                 0\n",
       "Job Experience Required    0\n",
       "Key Skills                 0\n",
       "Location                   0\n",
       "Industry                   0\n",
       "Role                       0\n",
       "dtype: int64"
      ]
     },
     "execution_count": 122,
     "metadata": {},
     "output_type": "execute_result"
    }
   ],
   "source": [
    "jobs.isnull().sum()"
   ]
  },
  {
   "cell_type": "code",
   "execution_count": 123,
   "id": "d82a166e",
   "metadata": {},
   "outputs": [],
   "source": [
    "jobs['Key Skills'] = jobs['Key Skills'].apply(lambda x: x.lower().replace(\"|\",\" \").replace(\"  \",\" \").strip())\n",
    "jobs['Key Skills'].unique()[5]\n",
    "jobs['Tags'] = jobs['Key Skills'] +  ' ' + jobs['Location'] + ' ' + jobs['Role']\n",
    "jobs['Tags'] = jobs['Tags'].apply(lambda x: x.lower().replace(\"  \",\" \").strip())"
   ]
  },
  {
   "cell_type": "code",
   "execution_count": 124,
   "id": "53fbb7f5",
   "metadata": {},
   "outputs": [],
   "source": [
    "cv = CountVectorizer(max_features=30000000,stop_words='english')"
   ]
  },
  {
   "cell_type": "code",
   "execution_count": 125,
   "id": "dc6a12fa",
   "metadata": {},
   "outputs": [],
   "source": [
    "def vectorize(narr):\n",
    "    vector = cv.fit_transform(narr)\n",
    "    similarity = cosine_similarity(vector)\n",
    "    return similarity"
   ]
  },
  {
   "cell_type": "code",
   "execution_count": 126,
   "id": "096a6827",
   "metadata": {},
   "outputs": [],
   "source": [
    "def getUserData():\n",
    "    skills = input(\"Enter Your Skills (Mandatory) (ex: C, C++, Python)\")\n",
    "    experience = int(input(\"Enter Your Experience (ex: 0,1,2..)\"))\n",
    "    role = input(\"Enter If There are any Preffered Role (Optional)\")\n",
    "    location = input(\"Enter any Preffered Location (Optional)\")\n",
    "    userData = {'skills':skills, 'experience':experience, 'role':role, 'location':location }\n",
    "    return userData"
   ]
  },
  {
   "cell_type": "code",
   "execution_count": 127,
   "id": "79bd4630",
   "metadata": {},
   "outputs": [],
   "source": [
    "def recommendJobs():\n",
    "    userData = getUserData()\n",
    "    tags = userData['skills'] + ' ' + userData['location'] + ' ' + userData['role']\n",
    "    temp = {\n",
    "        'Job Title':' ',\n",
    "        'Job Salary':\" \",\n",
    "        'Job Experience Required': userData['experience'] or ' ',\n",
    "        'Key Skills': userData['skills'] or ' ',\n",
    "        'Location':userData['location'] or ' ',\n",
    "        'Industry':' ',\n",
    "        'Role':userData['role'] or ' ',\n",
    "        'Tags': tags.lower()\n",
    "    }\n",
    "    newDf = jobs.append(temp,ignore_index = True)\n",
    "    tempArray = newDf['Tags'].values\n",
    "    vector = vectorize(tempArray)\n",
    "    recommended_list = sorted(list(enumerate(vector[-1])),reverse=True,key= lambda x:x[1])\n",
    "    recList = []\n",
    "    for i in recommended_list[1:10]:\n",
    "        recList.append(jobs.iloc[i[0]])\n",
    "    recommendedJobs = pd.DataFrame(recList)\n",
    "    recommendedJobs = recommendedJobs[['Job Title','Job Salary','Job Experience Required', 'Key Skills','Location','Industry','Role']]\n",
    "    return recommendedJobs"
   ]
  },
  {
   "cell_type": "code",
   "execution_count": null,
   "id": "69ffecc5",
   "metadata": {},
   "outputs": [],
   "source": [
    "recommendedJobs = recommendJobs()\n",
    "recommendedJobs"
   ]
  }
 ],
 "metadata": {
  "kernelspec": {
   "display_name": "Python 3 (ipykernel)",
   "language": "python",
   "name": "python3"
  },
  "language_info": {
   "codemirror_mode": {
    "name": "ipython",
    "version": 3
   },
   "file_extension": ".py",
   "mimetype": "text/x-python",
   "name": "python",
   "nbconvert_exporter": "python",
   "pygments_lexer": "ipython3",
   "version": "3.10.8"
  }
 },
 "nbformat": 4,
 "nbformat_minor": 5
}
